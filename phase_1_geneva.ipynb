{
 "cells": [
  {
   "cell_type": "markdown",
   "id": "a4429217",
   "metadata": {},
   "source": [
    "In the Coursera - Investment Management Course by Geneve University they introduce to methods of valuation in Module 1 (Understanding Financial Markets)\n",
    "\n",
    "- Discounting (Net Present Value)\n",
    "- Comparative Analysis (Via Multiples)"
   ]
  },
  {
   "cell_type": "markdown",
   "id": "9c8ff9cc",
   "metadata": {},
   "source": [
    "### Discounting\n",
    "\n",
    "If you have a stream of cashflows (np.array of floats) and a discount rate (assumed risk-free rate of growth) that is constant you can discount future cashflow values to the corresponding \"present value\". \n",
    "\n",
    "- Present Value: The amount of money invested at t = 0 to recover the future value under constant growth given by the discount rate\n",
    "\n",
    "The equation is: \n",
    "\n",
    "$$\n",
    "\n",
    "NPV = \\sum_{i=0}^{N}\\frac{c_{i}}{(1+r)^{i}}\n",
    "\n",
    "$$\n",
    "\n",
    "Where $r$ is the discount rate and $c_{i}$ is the cash flow at timepoint $i$. In this case $c_{0}$ is the initial investment. If $NPV > 0$ the investment is considered favorable, $<0$ is to be avoided."
   ]
  },
  {
   "cell_type": "code",
   "execution_count": 1,
   "id": "1ffb8028",
   "metadata": {},
   "outputs": [],
   "source": [
    "import numpy as np"
   ]
  },
  {
   "cell_type": "code",
   "execution_count": null,
   "id": "e9157a02",
   "metadata": {},
   "outputs": [],
   "source": [
    "def npv(discount_rate, cash_flow):\n",
    "    flow_size = len(cash_flow)\n",
    "    discount_multipliers = np.array([1/((1+discount_rate)**i) for i in range(flow_size)])\n",
    "    pre_sum = discount_multipliers * cash_flow\n",
    "    npv = np.sum(pre_sum)\n",
    "    if npv > 0:\n",
    "        print(f\"The net present value is {npv}, which represents a sound investment.\")\n",
    "    elif npv < 0:\n",
    "        print(f\"The net present value is {npv}, which represents a bad investment.\")\n",
    "    else:\n",
    "        print(\"The net present value is 0, the investment is ambiguous under this measure.\")\n",
    "    \n",
    "    return npv\n"
   ]
  },
  {
   "cell_type": "code",
   "execution_count": null,
   "id": "988dc727",
   "metadata": {},
   "outputs": [],
   "source": [
    "#A good deal\n",
    "\n",
    "npv(0.1, np.array([-150,20,50,70,70]))"
   ]
  },
  {
   "cell_type": "code",
   "execution_count": null,
   "id": "c3ae42d5",
   "metadata": {},
   "outputs": [],
   "source": [
    "#A bad deal\n",
    "\n",
    "npv(0.1, np.array([100,-90,20,-90,40]))"
   ]
  },
  {
   "cell_type": "markdown",
   "id": "f80443bf",
   "metadata": {},
   "source": [
    "At present, this only account for finite cashflows and disregards things like company debt, long term growth and capital costs. Under the assumption of fixed growth beyond some time horizon ($g$), and a fixed weighted average of capital cost ($r_{c}$), we can determine the *terminal value* ($TV$) assuming the cashflow is infinite and the sum under constant growth converges. (Note: In *A Random Walk Down Wall Street*, this point is highlighted as acount for profits in the future and the here-after). The equation is: \n",
    "\n",
    "$$\n",
    "TV = \\frac{1+g}{r_{c}-g}FCF_{N}\n",
    "$$\n",
    "\n",
    "Where $FCF_{N}$ is the last known *free cash flow* of the company's financial statements."
   ]
  },
  {
   "cell_type": "code",
   "execution_count": null,
   "id": "f5a4e21e",
   "metadata": {},
   "outputs": [],
   "source": [
    "def terminal_value(growth_rate,capital_cost,final_flow):\n",
    "    return ((1+growth_rate)/(capital_cost - growth_rate))*final_flow"
   ]
  },
  {
   "cell_type": "markdown",
   "id": "38655e00",
   "metadata": {},
   "source": [
    "We can then discount this using the same multiplier as the final cash to give the *discounted cash flow* ($DCF$):\n",
    "\n",
    "$$\n",
    "DCF = \\sum_{i=1}^{N}\\frac{FCF_{i}}{(1+r_{c})^{i}} + \\frac{TV}{(1+r_{c})^{N}},\n",
    "$$\n",
    "\n",
    "which is a spin on *NPV*."
   ]
  },
  {
   "cell_type": "code",
   "execution_count": null,
   "id": "ae7cb2a3",
   "metadata": {},
   "outputs": [],
   "source": [
    "def dcf(growth_rate, capital_cost, free_cash_flow):\n",
    "    flow_size = len(free_cash_flow)\n",
    "    discount_multiplier = np.array([1/((1+capital_cost)**i) for i in range(1,flow_size+1)])\n",
    "    t_v = terminal_value(growth_rate, capital_cost, free_cash_flow[-1])\n",
    "    pre_sum = discount_multiplier*free_cash_flow\n",
    "    return np.sum(pre_sum) + (t_v/(1+capital_cost)**(flow_size))"
   ]
  },
  {
   "cell_type": "markdown",
   "id": "4dce297c",
   "metadata": {},
   "source": [
    "Lastly, we can account for exisiting debt $D$ and outstanding stock shares $s$ to derive the *enterprise value* ($EV$) and *fair stock price* ($p_{f}$)\n",
    "\n",
    "$$\n",
    "EV = DCF\n",
    "$$\n",
    "\n",
    "$$\n",
    "p_{f} = \\frac{EV - D}{s}\n",
    "$$"
   ]
  },
  {
   "cell_type": "code",
   "execution_count": null,
   "id": "61da04cc",
   "metadata": {},
   "outputs": [],
   "source": [
    "def fair_stock(debt,shares_outstanding,growth_rate, capital_cost, free_cash_flow):\n",
    "    enterprise_value = dcf(growth_rate, capital_cost, free_cash_flow)\n",
    "    return (enterprise_value - debt) / shares_outstanding"
   ]
  }
 ],
 "metadata": {
  "kernelspec": {
   "display_name": "quant_env",
   "language": "python",
   "name": "python3"
  },
  "language_info": {
   "codemirror_mode": {
    "name": "ipython",
    "version": 3
   },
   "file_extension": ".py",
   "mimetype": "text/x-python",
   "name": "python",
   "nbconvert_exporter": "python",
   "pygments_lexer": "ipython3",
   "version": "3.12.11"
  }
 },
 "nbformat": 4,
 "nbformat_minor": 5
}
