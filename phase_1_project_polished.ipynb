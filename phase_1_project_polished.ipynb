{
 "cells": [
  {
   "cell_type": "code",
   "execution_count": null,
   "id": "7ed575a8",
   "metadata": {},
   "outputs": [],
   "source": [
    "import numpy as np\n",
    "import market_behavior_utils as mbu\n",
    "from datetime import datetime as DT\n",
    "import matplotlib.pyplot as plt\n",
    "import pandas_datareader as pdr\n",
    "import scipy.stats as sc"
   ]
  },
  {
   "cell_type": "markdown",
   "id": "439a8a5f",
   "metadata": {},
   "source": [
    "# Week 1 - Return Types, Setup, and Data Foundations\n"
   ]
  },
  {
   "cell_type": "code",
   "execution_count": null,
   "id": "6ab42737",
   "metadata": {},
   "outputs": [],
   "source": [
    "start_date = DT(year=2023,month=1,day=1)\n",
    "end_date = DT(year=2024,month=12,day=31)\n",
    "stocks = ['GOOGL','NVDA']\n",
    "financial_data = mbu.grab_ticker(start_date,end_date,stocks)"
   ]
  },
  {
   "cell_type": "code",
   "execution_count": null,
   "id": "8c405eaa",
   "metadata": {},
   "outputs": [],
   "source": [
    "financial_data.plot(y=[f\"CUM_SIMPLE_{stock}\" for stock in stocks])"
   ]
  },
  {
   "cell_type": "code",
   "execution_count": null,
   "id": "eb69e877",
   "metadata": {},
   "outputs": [],
   "source": [
    "financial_data[[f\"SIMPLE_{stock}\" for stock in stocks]].plot(kind='hist',bins=50)"
   ]
  },
  {
   "cell_type": "markdown",
   "id": "ee6558ca",
   "metadata": {},
   "source": [
    "# Week 2 - Distributions + Cumulative Returns + Intro to Bonds"
   ]
  },
  {
   "cell_type": "code",
   "execution_count": null,
   "id": "40abc19e",
   "metadata": {},
   "outputs": [],
   "source": [
    "simple_data_nvda, x_vals_nvda, norm_vals_nvda = mbu.gaussian_overlay_data(financial_data,f\"SIMPLE_{stocks[0]}\")"
   ]
  },
  {
   "cell_type": "code",
   "execution_count": null,
   "id": "31b235cc",
   "metadata": {},
   "outputs": [],
   "source": [
    "plt.hist(simple_data_nvda,bins=50,density=True)\n",
    "plt.plot(x_vals_nvda,norm_vals_nvda)"
   ]
  },
  {
   "cell_type": "code",
   "execution_count": null,
   "id": "b1e2fe99",
   "metadata": {},
   "outputs": [],
   "source": [
    "daily_bond_data = mbu.get_bond_data(start_date,end_date,\"DGS3MO\")"
   ]
  },
  {
   "cell_type": "code",
   "execution_count": null,
   "id": "13103abb",
   "metadata": {},
   "outputs": [],
   "source": [
    "mbu.static_sharpe_df(start_date,end_date,stocks)"
   ]
  },
  {
   "cell_type": "markdown",
   "id": "caa02630",
   "metadata": {},
   "source": [
    "# Week 3 - Regression, Volatility, Bond Valuation"
   ]
  },
  {
   "cell_type": "code",
   "execution_count": null,
   "id": "02e253be",
   "metadata": {},
   "outputs": [],
   "source": [
    "window = \"30D\"\n",
    "stocks = ['SPY','GOOGL','NVDA']\n",
    "bond_type = 'DGS3MO'\n",
    "full_financial_data = mbu.rolling_statistics(start_date,end_date,stocks,window)\n"
   ]
  },
  {
   "cell_type": "code",
   "execution_count": null,
   "id": "8dd3b4c3",
   "metadata": {},
   "outputs": [],
   "source": [
    "full_financial_data[[f\"{window}_SHARPE_{stock}\"for stock in stocks]].plot()"
   ]
  },
  {
   "cell_type": "code",
   "execution_count": null,
   "id": "1c9de52d",
   "metadata": {},
   "outputs": [],
   "source": [
    "full_financial_data[[f\"{window}_STD_{stock}\"for stock in stocks]].plot()"
   ]
  },
  {
   "cell_type": "code",
   "execution_count": null,
   "id": "5f403790",
   "metadata": {},
   "outputs": [],
   "source": [
    "full_financial_data[[f\"{window}_EXCESS_RETURN_{stock}\" for stock in stocks]].corr()"
   ]
  },
  {
   "cell_type": "code",
   "execution_count": null,
   "id": "68554e89",
   "metadata": {},
   "outputs": [],
   "source": [
    "full_financial_data.plot(x=f'{window}_EXCESS_RETURN_{stocks[0]}',y=f'{window}_EXCESS_RETURN_{stocks[2]}',kind='scatter')"
   ]
  },
  {
   "cell_type": "code",
   "execution_count": null,
   "id": "ed44bfa7",
   "metadata": {},
   "outputs": [],
   "source": [
    "daily_market_excess = (full_financial_data[f\"SIMPLE_{stocks[0]}\"] - full_financial_data[f\"{bond_type}\"]).dropna()\n",
    "daily_stock_excess = (full_financial_data[f\"SIMPLE_{stocks[2]}\"] - full_financial_data[f\"{bond_type}\"]).dropna()\n",
    "\n",
    "fitted_line =  sc.linregress(daily_market_excess,daily_stock_excess)"
   ]
  },
  {
   "cell_type": "code",
   "execution_count": null,
   "id": "5370de5a",
   "metadata": {},
   "outputs": [],
   "source": [
    "plt.scatter(daily_market_excess,daily_stock_excess)\n",
    "plt.plot(daily_market_excess,fitted_line.intercept + fitted_line.slope * daily_market_excess,color='red')"
   ]
  },
  {
   "cell_type": "code",
   "execution_count": null,
   "id": "98bb5c5a",
   "metadata": {},
   "outputs": [],
   "source": [
    "face_value = 1000\n",
    "coupon_value = 10\n",
    "time_years = 5\n",
    "coupons_per_year = 2\n",
    "step = 150\n",
    "rates = np.linspace(0.001,0.5,step)"
   ]
  },
  {
   "cell_type": "code",
   "execution_count": null,
   "id": "a055fa92",
   "metadata": {},
   "outputs": [],
   "source": [
    "pvs_symbolic = mbu.present_value_fv(rates,face_value,coupon_value,time_years,coupons_per_year)\n",
    "\n",
    "plt.plot(rates,pvs_symbolic)\n",
    "plt.plot(rates,[face_value for _ in range(step)])\n",
    "plt.plot([(coupons_per_year)*(coupon_value)/(face_value) for _ in range(step)],pvs_symbolic)"
   ]
  },
  {
   "cell_type": "code",
   "execution_count": null,
   "id": "e572a995",
   "metadata": {},
   "outputs": [],
   "source": [
    "dur_symbolic = mbu.duration_fv(rates,face_value,coupon_value,time_years,coupons_per_year)\n",
    "convex_symbolic = mbu.convexity_fv(rates,face_value,coupon_value,time_years,coupons_per_year)"
   ]
  },
  {
   "cell_type": "code",
   "execution_count": null,
   "id": "659a6752",
   "metadata": {},
   "outputs": [],
   "source": [
    "plt.plot(rates,dur_symbolic)"
   ]
  },
  {
   "cell_type": "code",
   "execution_count": null,
   "id": "a385b8e4",
   "metadata": {},
   "outputs": [],
   "source": [
    "plt.plot(rates,convex_symbolic)"
   ]
  },
  {
   "cell_type": "code",
   "execution_count": null,
   "id": "2c3b5435",
   "metadata": {},
   "outputs": [],
   "source": [
    "start = DT(2024,1,1)\n",
    "end = DT(2024,12,31)\n",
    "gdp_data_call  = pdr.fred.FredReader(['GDPC1','UNRATE','CPIAUCSL','FEDFUNDS','PCE','DGS3MO'],start,end)"
   ]
  },
  {
   "cell_type": "code",
   "execution_count": null,
   "id": "e092fa32",
   "metadata": {},
   "outputs": [],
   "source": [
    "gdp_data_call.read()"
   ]
  },
  {
   "cell_type": "code",
   "execution_count": null,
   "id": "b13e7eed",
   "metadata": {},
   "outputs": [],
   "source": []
  }
 ],
 "metadata": {
  "kernelspec": {
   "display_name": "quant_env",
   "language": "python",
   "name": "python3"
  },
  "language_info": {
   "codemirror_mode": {
    "name": "ipython",
    "version": 3
   },
   "file_extension": ".py",
   "mimetype": "text/x-python",
   "name": "python",
   "nbconvert_exporter": "python",
   "pygments_lexer": "ipython3",
   "version": "3.12.11"
  }
 },
 "nbformat": 4,
 "nbformat_minor": 5
}
